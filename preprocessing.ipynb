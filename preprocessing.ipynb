{
 "cells": [
  {
   "cell_type": "code",
   "execution_count": 7,
   "metadata": {},
   "outputs": [],
   "source": [
    "import pandas as pd\n",
    "import numpy as np"
   ]
  },
  {
   "cell_type": "code",
   "execution_count": 5,
   "metadata": {},
   "outputs": [],
   "source": [
    "train = pd.read_csv('train.csv', index_col=0)"
   ]
  },
  {
   "cell_type": "code",
   "execution_count": 17,
   "metadata": {},
   "outputs": [],
   "source": [
    "train['llm_idx'] = np.nan\n",
    "train['llm_label'] = np.nan"
   ]
  },
  {
   "cell_type": "code",
   "execution_count": 12,
   "metadata": {},
   "outputs": [],
   "source": [
    "answers = {\n",
    "    '(A)': 'buildings', \n",
    "    '(B)': 'forest', \n",
    "    '(C)': 'glacier', \n",
    "    '(D)': 'mountain', \n",
    "    '(E)': 'sea', \n",
    "    '(F)': 'street'\n",
    "}"
   ]
  },
  {
   "cell_type": "code",
   "execution_count": 59,
   "metadata": {},
   "outputs": [],
   "source": [
    "# extract LLM labels from description\n",
    "def extract_llm_label(description, is_first=False):\n",
    "    idx = {}\n",
    "    if '(A)' in description:\n",
    "        idx['(A)'] = description.index('(A)')\n",
    "    if '(B)' in description:\n",
    "        idx['(B)'] = description.index('(B)')\n",
    "    if '(C)' in description:\n",
    "        idx['(C)'] = description.index('(C)')\n",
    "    if '(D)' in description:\n",
    "        idx['(D)'] = description.index('(D)')  \n",
    "    if '(E)' in description:\n",
    "        idx['(E)'] = description.index('(E)')\n",
    "    if '(F)' in description:\n",
    "        idx['(F)'] = description.index('(F)')\n",
    "    if len(idx) == 2 and is_first:\n",
    "        min_key = min(idx, key=idx.get)\n",
    "        # Return a dictionary with the key and its minimum value\n",
    "        return {min_key: idx[min_key]}\n",
    "\n",
    "    return idx   \n",
    "\n",
    "train['llm_idx'] = train['description'].apply(extract_llm_label)"
   ]
  },
  {
   "cell_type": "code",
   "execution_count": 23,
   "metadata": {},
   "outputs": [],
   "source": [
    "# extract LLM label from description if len idx key is 1\n",
    "def extract_llm_label_from_idx(idx):\n",
    "    if len(idx) == 1:\n",
    "        return answers[list(idx.keys())[0]]\n",
    "    else:\n",
    "        return np.nan\n",
    "\n",
    "train['llm_label'] = train['llm_idx'].apply(extract_llm_label_from_idx)"
   ]
  },
  {
   "cell_type": "markdown",
   "metadata": {},
   "source": [
    "# handle split string"
   ]
  },
  {
   "cell_type": "code",
   "execution_count": 34,
   "metadata": {},
   "outputs": [],
   "source": [
    "error = train[train['llm_label'].isna()]"
   ]
  },
  {
   "cell_type": "code",
   "execution_count": 39,
   "metadata": {},
   "outputs": [
    {
     "name": "stderr",
     "output_type": "stream",
     "text": [
      "/tmp/ipykernel_339692/3223177211.py:1: SettingWithCopyWarning: \n",
      "A value is trying to be set on a copy of a slice from a DataFrame.\n",
      "Try using .loc[row_indexer,col_indexer] = value instead\n",
      "\n",
      "See the caveats in the documentation: https://pandas.pydata.org/pandas-docs/stable/user_guide/indexing.html#returning-a-view-versus-a-copy\n",
      "  error['sub_description'] = error['description'].apply(lambda x: x.split('The main object in the image')[-1])\n"
     ]
    }
   ],
   "source": [
    "error['sub_description'] = error['description'].apply(lambda x: x.split('The main object in the image')[-1])"
   ]
  },
  {
   "cell_type": "code",
   "execution_count": 60,
   "metadata": {},
   "outputs": [
    {
     "name": "stderr",
     "output_type": "stream",
     "text": [
      "/tmp/ipykernel_339692/2769801696.py:1: SettingWithCopyWarning: \n",
      "A value is trying to be set on a copy of a slice from a DataFrame.\n",
      "Try using .loc[row_indexer,col_indexer] = value instead\n",
      "\n",
      "See the caveats in the documentation: https://pandas.pydata.org/pandas-docs/stable/user_guide/indexing.html#returning-a-view-versus-a-copy\n",
      "  error['llm_idx'] = error['sub_description'].apply(extract_llm_label, is_first=True)\n"
     ]
    }
   ],
   "source": [
    "error['llm_idx'] = error['sub_description'].apply(extract_llm_label, is_first=True)"
   ]
  },
  {
   "cell_type": "code",
   "execution_count": 61,
   "metadata": {},
   "outputs": [
    {
     "name": "stderr",
     "output_type": "stream",
     "text": [
      "/tmp/ipykernel_339692/502944615.py:1: SettingWithCopyWarning: \n",
      "A value is trying to be set on a copy of a slice from a DataFrame.\n",
      "Try using .loc[row_indexer,col_indexer] = value instead\n",
      "\n",
      "See the caveats in the documentation: https://pandas.pydata.org/pandas-docs/stable/user_guide/indexing.html#returning-a-view-versus-a-copy\n",
      "  error['llm_label'] = error['llm_idx'].apply(extract_llm_label_from_idx)\n"
     ]
    }
   ],
   "source": [
    "error['llm_label'] = error['llm_idx'].apply(extract_llm_label_from_idx)"
   ]
  },
  {
   "cell_type": "code",
   "execution_count": 62,
   "metadata": {},
   "outputs": [],
   "source": [
    "train['llm_label'] = train['llm_label'].fillna(error['llm_label'])"
   ]
  },
  {
   "cell_type": "markdown",
   "metadata": {},
   "source": [
    "# get index by answer string"
   ]
  },
  {
   "cell_type": "code",
   "execution_count": 66,
   "metadata": {},
   "outputs": [],
   "source": [
    "error = train[train['llm_label'].isna()]"
   ]
  },
  {
   "cell_type": "code",
   "execution_count": 104,
   "metadata": {},
   "outputs": [
    {
     "name": "stderr",
     "output_type": "stream",
     "text": [
      "/tmp/ipykernel_339692/330981100.py:23: SettingWithCopyWarning: \n",
      "A value is trying to be set on a copy of a slice from a DataFrame.\n",
      "Try using .loc[row_indexer,col_indexer] = value instead\n",
      "\n",
      "See the caveats in the documentation: https://pandas.pydata.org/pandas-docs/stable/user_guide/indexing.html#returning-a-view-versus-a-copy\n",
      "  error['llm_idx'] = error['description'].apply(extract_by_label, is_first=True)\n"
     ]
    }
   ],
   "source": [
    "# extract LLM labels from description\n",
    "def extract_by_label(description, is_first=False):\n",
    "    idx = {}\n",
    "    if 'buildings' in description:\n",
    "        idx['(A)'] = description.index('buildings')\n",
    "    if 'forest' in description:\n",
    "        idx['(B)'] = description.index('forest')\n",
    "    if 'glacier' in description:\n",
    "        idx['(C)'] = description.index('glacier')\n",
    "    if 'mountain' in description:\n",
    "        idx['(D)'] = description.index('mountain')  \n",
    "    if 'sea' in description:\n",
    "        idx['(E)'] = description.index('sea')\n",
    "    if 'street' in description:\n",
    "        idx['(F)'] = description.index('street')\n",
    "    if is_first:\n",
    "        min_key = min(idx, key=idx.get)\n",
    "        # Return a dictionary with the key and its minimum value\n",
    "        return {min_key: idx[min_key]}\n",
    "\n",
    "    return idx   \n",
    "\n",
    "error['llm_idx'] = error['description'].apply(extract_by_label, is_first=True)"
   ]
  },
  {
   "cell_type": "code",
   "execution_count": 105,
   "metadata": {},
   "outputs": [
    {
     "name": "stderr",
     "output_type": "stream",
     "text": [
      "/tmp/ipykernel_339692/502944615.py:1: SettingWithCopyWarning: \n",
      "A value is trying to be set on a copy of a slice from a DataFrame.\n",
      "Try using .loc[row_indexer,col_indexer] = value instead\n",
      "\n",
      "See the caveats in the documentation: https://pandas.pydata.org/pandas-docs/stable/user_guide/indexing.html#returning-a-view-versus-a-copy\n",
      "  error['llm_label'] = error['llm_idx'].apply(extract_llm_label_from_idx)\n"
     ]
    }
   ],
   "source": [
    "error['llm_label'] = error['llm_idx'].apply(extract_llm_label_from_idx)"
   ]
  },
  {
   "cell_type": "code",
   "execution_count": 106,
   "metadata": {},
   "outputs": [],
   "source": [
    "train['llm_label'] = train['llm_label'].fillna(error['llm_label'])"
   ]
  },
  {
   "cell_type": "markdown",
   "metadata": {},
   "source": [
    "# FINISH"
   ]
  },
  {
   "cell_type": "code",
   "execution_count": 109,
   "metadata": {},
   "outputs": [
    {
     "data": {
      "text/plain": [
       "0.8870599971497791"
      ]
     },
     "execution_count": 109,
     "metadata": {},
     "output_type": "execute_result"
    }
   ],
   "source": [
    "sum(train['label'] == train['llm_label']) / len(train) # 0.999"
   ]
  },
  {
   "cell_type": "code",
   "execution_count": null,
   "metadata": {},
   "outputs": [],
   "source": [
    "# save to csv\n",
    "train.to_csv('trained.csv')"
   ]
  }
 ],
 "metadata": {
  "kernelspec": {
   "display_name": "distill",
   "language": "python",
   "name": "python3"
  },
  "language_info": {
   "codemirror_mode": {
    "name": "ipython",
    "version": 3
   },
   "file_extension": ".py",
   "mimetype": "text/x-python",
   "name": "python",
   "nbconvert_exporter": "python",
   "pygments_lexer": "ipython3",
   "version": "3.10.6"
  }
 },
 "nbformat": 4,
 "nbformat_minor": 2
}

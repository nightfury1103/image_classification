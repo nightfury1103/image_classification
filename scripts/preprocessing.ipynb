{
 "cells": [
  {
   "cell_type": "code",
   "execution_count": 34,
   "metadata": {},
   "outputs": [],
   "source": [
    "import pandas as pd\n",
    "import numpy as np"
   ]
  },
  {
   "cell_type": "code",
   "execution_count": 35,
   "metadata": {},
   "outputs": [],
   "source": [
    "train = pd.read_csv('/home/huy/Desktop/HCMUS/image_classification/datasets/CIFAR/test.csv', index_col=0)"
   ]
  },
  {
   "cell_type": "code",
   "execution_count": 36,
   "metadata": {},
   "outputs": [],
   "source": [
    "train['llm_idx'] = np.nan\n",
    "train['llm_label'] = np.nan"
   ]
  },
  {
   "cell_type": "code",
   "execution_count": 37,
   "metadata": {},
   "outputs": [],
   "source": [
    "answers = {\n",
    "    \"(A)\": 'airplane',\n",
    "    \"(B)\": 'automobile',\n",
    "    \"(C)\": 'bird',\n",
    "    \"(D)\": 'cat',\n",
    "    \"(E)\": 'deer',\n",
    "    \"(F)\": 'dog',\n",
    "    \"(G)\": 'frog',\n",
    "    \"(H)\": 'horse',\n",
    "    \"(I)\": 'ship',\n",
    "    \"(J)\": 'truck',\n",
    "}"
   ]
  },
  {
   "cell_type": "code",
   "execution_count": 38,
   "metadata": {},
   "outputs": [],
   "source": [
    "# extract LLM labels from description\n",
    "def extract_llm_label(description, is_first=False):\n",
    "    idx = {}\n",
    "    if '(A)' in description:\n",
    "        idx['(A)'] = description.index('(A)')\n",
    "    if '(B)' in description:\n",
    "        idx['(B)'] = description.index('(B)')\n",
    "    if '(C)' in description:\n",
    "        idx['(C)'] = description.index('(C)')\n",
    "    if '(D)' in description:\n",
    "        idx['(D)'] = description.index('(D)')  \n",
    "    if '(E)' in description:\n",
    "        idx['(E)'] = description.index('(E)')\n",
    "    if '(F)' in description:\n",
    "        idx['(F)'] = description.index('(F)')\n",
    "    if '(G)' in description:\n",
    "        idx['(G)'] = description.index('(G)')\n",
    "    if '(H)' in description:\n",
    "        idx['(H)'] = description.index('(H)')\n",
    "    if '(I)' in description:\n",
    "        idx['(I)'] = description.index('(I)')\n",
    "    if '(J)' in description:\n",
    "        idx['(J)'] = description.index('(J)')    \n",
    "    \n",
    "    if len(idx) == 2 and is_first:\n",
    "        min_key = min(idx, key=idx.get)\n",
    "        # Return a dictionary with the key and its minimum value\n",
    "        return {min_key: idx[min_key]}\n",
    "\n",
    "    return idx   \n",
    "\n",
    "train['llm_idx'] = train['description'].apply(extract_llm_label)"
   ]
  },
  {
   "cell_type": "code",
   "execution_count": 39,
   "metadata": {},
   "outputs": [],
   "source": [
    "# extract LLM label from description if len idx key is 1\n",
    "def extract_llm_label_from_idx(idx):\n",
    "    if len(idx) == 1:\n",
    "        return answers[list(idx.keys())[0]]\n",
    "    else:\n",
    "        return np.nan\n",
    "\n",
    "train['llm_label'] = train['llm_idx'].apply(extract_llm_label_from_idx)"
   ]
  },
  {
   "cell_type": "markdown",
   "metadata": {},
   "source": [
    "# handle split string"
   ]
  },
  {
   "cell_type": "code",
   "execution_count": 40,
   "metadata": {},
   "outputs": [],
   "source": [
    "error = train[train['llm_label'].isna()]"
   ]
  },
  {
   "cell_type": "code",
   "execution_count": 41,
   "metadata": {},
   "outputs": [
    {
     "name": "stderr",
     "output_type": "stream",
     "text": [
      "/tmp/ipykernel_1968904/3223177211.py:1: SettingWithCopyWarning: \n",
      "A value is trying to be set on a copy of a slice from a DataFrame.\n",
      "Try using .loc[row_indexer,col_indexer] = value instead\n",
      "\n",
      "See the caveats in the documentation: https://pandas.pydata.org/pandas-docs/stable/user_guide/indexing.html#returning-a-view-versus-a-copy\n",
      "  error['sub_description'] = error['description'].apply(lambda x: x.split('The main object in the image')[-1])\n"
     ]
    }
   ],
   "source": [
    "error['sub_description'] = error['description'].apply(lambda x: x.split('The main object in the image')[-1])"
   ]
  },
  {
   "cell_type": "code",
   "execution_count": 42,
   "metadata": {},
   "outputs": [
    {
     "name": "stderr",
     "output_type": "stream",
     "text": [
      "/tmp/ipykernel_1968904/2769801696.py:1: SettingWithCopyWarning: \n",
      "A value is trying to be set on a copy of a slice from a DataFrame.\n",
      "Try using .loc[row_indexer,col_indexer] = value instead\n",
      "\n",
      "See the caveats in the documentation: https://pandas.pydata.org/pandas-docs/stable/user_guide/indexing.html#returning-a-view-versus-a-copy\n",
      "  error['llm_idx'] = error['sub_description'].apply(extract_llm_label, is_first=True)\n"
     ]
    }
   ],
   "source": [
    "error['llm_idx'] = error['sub_description'].apply(extract_llm_label, is_first=True)"
   ]
  },
  {
   "cell_type": "code",
   "execution_count": 43,
   "metadata": {},
   "outputs": [
    {
     "name": "stderr",
     "output_type": "stream",
     "text": [
      "/tmp/ipykernel_1968904/502944615.py:1: SettingWithCopyWarning: \n",
      "A value is trying to be set on a copy of a slice from a DataFrame.\n",
      "Try using .loc[row_indexer,col_indexer] = value instead\n",
      "\n",
      "See the caveats in the documentation: https://pandas.pydata.org/pandas-docs/stable/user_guide/indexing.html#returning-a-view-versus-a-copy\n",
      "  error['llm_label'] = error['llm_idx'].apply(extract_llm_label_from_idx)\n"
     ]
    }
   ],
   "source": [
    "error['llm_label'] = error['llm_idx'].apply(extract_llm_label_from_idx)"
   ]
  },
  {
   "cell_type": "code",
   "execution_count": 44,
   "metadata": {},
   "outputs": [],
   "source": [
    "train['llm_label'] = train['llm_label'].fillna(error['llm_label'])"
   ]
  },
  {
   "cell_type": "markdown",
   "metadata": {},
   "source": [
    "# get index by answer string"
   ]
  },
  {
   "cell_type": "code",
   "execution_count": 45,
   "metadata": {},
   "outputs": [],
   "source": [
    "error = train[train['llm_label'].isna()]"
   ]
  },
  {
   "cell_type": "code",
   "execution_count": 46,
   "metadata": {},
   "outputs": [
    {
     "name": "stderr",
     "output_type": "stream",
     "text": [
      "/tmp/ipykernel_1968904/1638846304.py:35: SettingWithCopyWarning: \n",
      "A value is trying to be set on a copy of a slice from a DataFrame.\n",
      "Try using .loc[row_indexer,col_indexer] = value instead\n",
      "\n",
      "See the caveats in the documentation: https://pandas.pydata.org/pandas-docs/stable/user_guide/indexing.html#returning-a-view-versus-a-copy\n",
      "  error['llm_idx'] = error['description'].apply(extract_by_label, is_first=True)\n"
     ]
    }
   ],
   "source": [
    "# extract LLM labels from description\n",
    "def extract_by_label(description, is_first=False):\n",
    "    idx = {}\n",
    "    if 'airplane' in description:\n",
    "        idx['(A)'] = description.index('airplane')\n",
    "    if 'automobile' in description:\n",
    "        idx['(B)'] = description.index('automobile')\n",
    "    if 'bird' in description:\n",
    "        idx['(C)'] = description.index('bird')\n",
    "    if 'cat' in description:\n",
    "        idx['(D)'] = description.index('cat')  \n",
    "    if 'deer' in description:\n",
    "        idx['(E)'] = description.index('deer')\n",
    "    if 'dog' in description:\n",
    "        idx['(F)'] = description.index('dog')\n",
    "    if 'frog' in description:\n",
    "        idx['(G)'] = description.index('frog')\n",
    "    if 'horse' in description:\n",
    "        idx['(H)'] = description.index('horse')\n",
    "    if 'ship' in description:\n",
    "        idx['(I)'] = description.index('ship')\n",
    "    if 'truck' in description:\n",
    "        idx['(J)'] = description.index('truck')    \n",
    "        \n",
    "    if is_first:\n",
    "        try:\n",
    "            min_key = min(idx, key=idx.get)\n",
    "            # Return a dictionary with the key and its minimum value\n",
    "            return {min_key: idx[min_key]}\n",
    "        except:\n",
    "            return ''\n",
    "\n",
    "    return idx   \n",
    "\n",
    "error['llm_idx'] = error['description'].apply(extract_by_label, is_first=True)"
   ]
  },
  {
   "cell_type": "code",
   "execution_count": 47,
   "metadata": {},
   "outputs": [
    {
     "name": "stderr",
     "output_type": "stream",
     "text": [
      "/tmp/ipykernel_1968904/502944615.py:1: SettingWithCopyWarning: \n",
      "A value is trying to be set on a copy of a slice from a DataFrame.\n",
      "Try using .loc[row_indexer,col_indexer] = value instead\n",
      "\n",
      "See the caveats in the documentation: https://pandas.pydata.org/pandas-docs/stable/user_guide/indexing.html#returning-a-view-versus-a-copy\n",
      "  error['llm_label'] = error['llm_idx'].apply(extract_llm_label_from_idx)\n"
     ]
    }
   ],
   "source": [
    "error['llm_label'] = error['llm_idx'].apply(extract_llm_label_from_idx)"
   ]
  },
  {
   "cell_type": "code",
   "execution_count": 48,
   "metadata": {},
   "outputs": [],
   "source": [
    "train['llm_label'] = train['llm_label'].fillna(error['llm_label'])"
   ]
  },
  {
   "cell_type": "markdown",
   "metadata": {},
   "source": [
    "# FINISH"
   ]
  },
  {
   "cell_type": "code",
   "execution_count": 49,
   "metadata": {},
   "outputs": [
    {
     "data": {
      "text/plain": [
       "llm_label\n",
       "horse         1818\n",
       "truck         1218\n",
       "cat           1027\n",
       "automobile    1015\n",
       "airplane       952\n",
       "dog            946\n",
       "ship           876\n",
       "bird           864\n",
       "frog           718\n",
       "deer           529\n",
       "Name: count, dtype: int64"
      ]
     },
     "execution_count": 49,
     "metadata": {},
     "output_type": "execute_result"
    }
   ],
   "source": [
    "train.llm_label.value_counts()"
   ]
  },
  {
   "cell_type": "code",
   "execution_count": 50,
   "metadata": {},
   "outputs": [
    {
     "data": {
      "text/plain": [
       "0.7561"
      ]
     },
     "execution_count": 50,
     "metadata": {},
     "output_type": "execute_result"
    }
   ],
   "source": [
    "sum(train['label'] == train['llm_label']) / len(train) # 0.999"
   ]
  },
  {
   "cell_type": "code",
   "execution_count": 33,
   "metadata": {},
   "outputs": [],
   "source": [
    "# save to csv\n",
    "train.to_csv('tested.csv')"
   ]
  }
 ],
 "metadata": {
  "kernelspec": {
   "display_name": "distill",
   "language": "python",
   "name": "python3"
  },
  "language_info": {
   "codemirror_mode": {
    "name": "ipython",
    "version": 3
   },
   "file_extension": ".py",
   "mimetype": "text/x-python",
   "name": "python",
   "nbconvert_exporter": "python",
   "pygments_lexer": "ipython3",
   "version": "3.10.6"
  }
 },
 "nbformat": 4,
 "nbformat_minor": 2
}

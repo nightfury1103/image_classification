{
 "cells": [
  {
   "cell_type": "code",
   "execution_count": 1,
   "metadata": {},
   "outputs": [],
   "source": [
    "import pandas as pd"
   ]
  },
  {
   "cell_type": "code",
   "execution_count": 2,
   "metadata": {},
   "outputs": [],
   "source": [
    "origin = pd.read_csv('/home/huy/Desktop/HCMUS/image_classification/description_data/CIFAR/describe_1.csv', index_col=0)"
   ]
  },
  {
   "cell_type": "code",
   "execution_count": 3,
   "metadata": {},
   "outputs": [],
   "source": [
    "error1 = pd.read_csv('/home/huy/Desktop/HCMUS/image_classification/description_data/CIFAR/describe_1.csv', index_col=0)\n",
    "error2 = pd.read_csv('/home/huy/Desktop/HCMUS/image_classification/description_data/CIFAR/describe_2.csv', index_col=0)\n",
    "error3 = pd.read_csv('/home/huy/Desktop/HCMUS/image_classification/description_data/CIFAR/describe_3.csv', index_col=0)\n",
    "error4 = pd.read_csv('/home/huy/Desktop/HCMUS/image_classification/description_data/CIFAR/describe_4.csv', index_col=0)\n",
    "error5 = pd.read_csv('/home/huy/Desktop/HCMUS/image_classification/description_data/CIFAR/describe_5.csv', index_col=0)\n",
    "error6 = pd.read_csv('/home/huy/Desktop/HCMUS/image_classification/description_data/CIFAR/describe_6.csv', index_col=0)\n",
    "error7 = pd.read_csv('/home/huy/Desktop/HCMUS/image_classification/description_data/CIFAR/describe_7.csv', index_col=0)"
   ]
  },
  {
   "cell_type": "code",
   "execution_count": 4,
   "metadata": {},
   "outputs": [],
   "source": [
    "# fill missing value from error1 to origin\n",
    "origin['description'] = origin['description'].fillna(error1['description'])\n",
    "origin['description'] = origin['description'].fillna(error2['description'])\n",
    "origin['description'] = origin['description'].fillna(error3['description'])\n",
    "origin['description'] = origin['description'].fillna(error4['description'])\n",
    "origin['description'] = origin['description'].fillna(error5['description'])\n",
    "origin['description'] = origin['description'].fillna(error6['description'])\n",
    "origin['description'] = origin['description'].fillna(error7['description'])"
   ]
  },
  {
   "cell_type": "code",
   "execution_count": 5,
   "metadata": {},
   "outputs": [
    {
     "data": {
      "text/plain": [
       "(0, 3)"
      ]
     },
     "execution_count": 5,
     "metadata": {},
     "output_type": "execute_result"
    }
   ],
   "source": [
    "origin[origin.description.isnull()].shape#.to_csv('/home/huy/Desktop/HCMUS/image_classification/remain.csv')"
   ]
  },
  {
   "cell_type": "code",
   "execution_count": 7,
   "metadata": {},
   "outputs": [],
   "source": [
    "origin.to_csv('/home/huy/Desktop/HCMUS/image_classification/datasets/CIFAR/train.csv')"
   ]
  }
 ],
 "metadata": {
  "kernelspec": {
   "display_name": "distill",
   "language": "python",
   "name": "python3"
  },
  "language_info": {
   "codemirror_mode": {
    "name": "ipython",
    "version": 3
   },
   "file_extension": ".py",
   "mimetype": "text/x-python",
   "name": "python",
   "nbconvert_exporter": "python",
   "pygments_lexer": "ipython3",
   "version": "3.10.6"
  }
 },
 "nbformat": 4,
 "nbformat_minor": 2
}
